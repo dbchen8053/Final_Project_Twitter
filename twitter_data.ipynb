{
 "cells": [
  {
   "cell_type": "code",
   "execution_count": null,
   "metadata": {},
   "outputs": [],
   "source": [
    "import json\n",
    "import os\n",
    "import tweepy as tw\n",
    "import pandas as pd\n",
    "import time\n",
    "from datetime import date, datetime\n",
    "import pymongo\n",
    "\n",
    "\n",
    "from secrets import consumer_key, consumer_secret, access_token, access_token_secret\n",
    "\n",
    "auth = tw.OAuthHandler(consumer_key, consumer_secret)\n",
    "auth.set_access_token(access_token, access_token_secret)\n",
    "api = tw.API(auth, wait_on_rate_limit=True)"
   ]
  },
  {
   "cell_type": "code",
   "execution_count": null,
   "metadata": {},
   "outputs": [],
   "source": [
    "# Create connection variable\n",
    "conn = 'mongodb://localhost:27017'\n",
    "\n",
    "# Pass connection to the pymongo instance.\n",
    "client = pymongo.MongoClient(conn)\n",
    "\n",
    "# Connect to a database. Will create one if not already available.\n",
    "db = client.tweets"
   ]
  },
  {
   "cell_type": "markdown",
   "metadata": {},
   "source": [
    "## Search tweets by hashtag"
   ]
  },
  {
   "cell_type": "code",
   "execution_count": null,
   "metadata": {},
   "outputs": [],
   "source": [
    "# tweets_ht = tw.Cursor(api.search, \n",
    "#                       q =\"$SPX\",\n",
    "#                       lang = 'en', \n",
    "#                       since=\"2018-06-29\",\n",
    "#                       until = \"2018-06-29\").items(5)\n",
    "# tweets_ht"
   ]
  },
  {
   "cell_type": "code",
   "execution_count": null,
   "metadata": {},
   "outputs": [],
   "source": [
    "accounts = ['@LizAnnSonders', '@morganhousel', '@EconguyRosie','@CitronResearch', '@TruthGundlach', '@AswathDamodaran']\n",
    "screen_names = ['LizAnnSonders', 'morganhousel', 'EconguyRosie', 'CitronResearch', 'TruthGundlach', 'AswathDamodaran']\n",
    "\n",
    "# accounts = ['@cnbc', '@nytimesbusiness', '@WSJMarkets', '@stlouisfed', '@jimcramer', '@TheStalwart', '@ReformedBroker']\n",
    "# screen_names = ['CNBC','nytimesbusiness', 'WSJmarkets', 'stlouisfed', 'jimcramer', 'TheStalwart', 'ReformedBroker']"
   ]
  },
  {
   "cell_type": "code",
   "execution_count": null,
   "metadata": {},
   "outputs": [],
   "source": [
    "def max_tweet_id(name):\n",
    "    return db['capstone_finance'].find_one({'screen_name':name}, sort = [('unix_timestamp', 1)])['tweet_id']"
   ]
  },
  {
   "cell_type": "code",
   "execution_count": null,
   "metadata": {},
   "outputs": [],
   "source": [
    "def account_tweets(account, name, count = 5):\n",
    "    \n",
    "    try:\n",
    "        max_id = max_tweet_id(name)\n",
    "        tweets = api.user_timeline(screen_name=account, max_id = max_id,\n",
    "                           count=count, tweet_mode='extended')\n",
    "    except: \n",
    "        tweets = api.user_timeline(screen_name=account,\n",
    "                           count=count, tweet_mode='extended')\n",
    "    \n",
    "    try:\n",
    "    \n",
    "#         tweets = api.user_timeline(screen_name=account, max_id = max_id,\n",
    "#                                    count=count, tweet_mode='extended')\n",
    "\n",
    "        tweets_by_account = {}\n",
    "\n",
    "        for tweet in tweets:\n",
    "            tweet_dict = {}\n",
    "            tweet_dict['username'] = tweet.user.name\n",
    "            tweet_dict['follower_count'] = tweet.user.followers_count\n",
    "            tweet_dict['screen_name'] = tweet.user.screen_name\n",
    "            tweet_dict['text'] = tweet.full_text\n",
    "            tweet_dict['tweet_id'] =tweet.id\n",
    "            tweet_dict['retweet_count'] = tweet.retweet_count\n",
    "            tweet_dict['unix_timestamp'] = time.mktime(tweet.created_at.timetuple()) \n",
    "            tweet_dict['datetime'] = tweet.created_at.strftime(\"%d-%b-%Y %H:%M:%S.%f\")\n",
    "            tweet_dict['favorite_count'] = tweet.favorite_count\n",
    "            db.capstone_finance.update_one({'tweet_id': tweet.id}, {\"$set\": tweet_dict}, upsert = True)\n",
    "            \n",
    "    except:\n",
    "        print(\"==========================================\")\n",
    "        print(\"Something went wrong:\")\n",
    "        print(account, name)"
   ]
  },
  {
   "cell_type": "code",
   "execution_count": null,
   "metadata": {},
   "outputs": [],
   "source": [
    "time.sleep(900)\n",
    "for i in range(20):\n",
    "    print('Waiting for 15min')\n",
    "    time.sleep(900)\n",
    "    print('Proceed to the next batch')\n",
    "    for account, name in zip(accounts, screen_names):\n",
    "        account_tweets(account, name, count = 3200)\n",
    "        "
   ]
  },
  {
   "cell_type": "code",
   "execution_count": null,
   "metadata": {},
   "outputs": [],
   "source": [
    "# Query tweets with right keywords, figure out which accounts have tweets \n",
    "# covering the entire year"
   ]
  },
  {
   "cell_type": "code",
   "execution_count": null,
   "metadata": {},
   "outputs": [],
   "source": [
    "# mongodb pipeline:\n",
    "# {\"text\": {$in:[/arket/, /SPX/, /SPY/, /stock/, /S&P/, /conom/, /Fed/]},\n",
    "# , unix_timestamp: {$gte: 1530401041}}\n",
    "\n",
    "# {\"text\": {$in:[/arket/, /SPX/, /SPY/, /stock/, /S&P/, /conom/, /Fed/, /bull/, /bear/,/momentum/, /voltility/,/treasury/,/Powell/,/policy/, /spending/, /tax/, /tariff/, /hike/, /trade/]}, unix_timestamp: {$gte: 1530401041}}"
   ]
  }
 ],
 "metadata": {
  "kernelspec": {
   "display_name": "Python 3",
   "language": "python",
   "name": "python3"
  },
  "language_info": {
   "codemirror_mode": {
    "name": "ipython",
    "version": 3
   },
   "file_extension": ".py",
   "mimetype": "text/x-python",
   "name": "python",
   "nbconvert_exporter": "python",
   "pygments_lexer": "ipython3",
   "version": "3.7.1"
  }
 },
 "nbformat": 4,
 "nbformat_minor": 2
}
