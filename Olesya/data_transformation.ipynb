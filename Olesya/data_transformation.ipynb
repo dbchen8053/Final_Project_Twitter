{
 "cells": [
  {
   "cell_type": "code",
   "execution_count": 28,
   "metadata": {},
   "outputs": [],
   "source": [
    "import pymongo\n",
    "import requests\n",
    "import pandas as pd\n",
    "import json\n",
    "from bson.objectid import ObjectId\n"
   ]
  },
  {
   "cell_type": "markdown",
   "metadata": {},
   "source": [
    "## Access json file in S3 bucket"
   ]
  },
  {
   "cell_type": "code",
   "execution_count": 30,
   "metadata": {
    "code_folding": [
     0
    ]
   },
   "outputs": [],
   "source": [
    "# Create connection variable\n",
    "conn = 'mongodb://localhost:27017'\n",
    "\n",
    "# Pass connection to the pymongo instance.\n",
    "client = pymongo.MongoClient(conn)\n",
    "\n",
    "# Connect to a database. Will create one if not already available.\n",
    "db = client.tweets"
   ]
  },
  {
   "cell_type": "code",
   "execution_count": 31,
   "metadata": {},
   "outputs": [],
   "source": [
    "cursor = db['capstone_finance'].find({'sentiment_by_sentence':{\"$exists\": 'true'}},{'tweet_id':1,'datetime':1,\n",
    "                                                                                    'screen_name':1,'text':1,\n",
    "                                                                                    'favorite_count':1,'follower_count':1,\n",
    "                                                                                    'retweet_count':1, 'unix_timestamp':1,\n",
    "                                                                                    'username':1, 'sentiment_by_sentence':1,\n",
    "                                                                                    '_id':0})"
   ]
  },
  {
   "cell_type": "code",
   "execution_count": 32,
   "metadata": {},
   "outputs": [],
   "source": [
    "json_list = []\n",
    "\n",
    "for  row in cursor:\n",
    "    json_list.append(row)"
   ]
  },
  {
   "cell_type": "markdown",
   "metadata": {},
   "source": [
    "## Save list of dictionariwa to json file"
   ]
  },
  {
   "cell_type": "code",
   "execution_count": 33,
   "metadata": {},
   "outputs": [],
   "source": [
    "with open('data/sentiment_finance.json', 'w') as outfile:  \n",
    "    json.dump(json_list, outfile)"
   ]
  },
  {
   "cell_type": "markdown",
   "metadata": {},
   "source": [
    "## Create a dataframe and save to csv file"
   ]
  },
  {
   "cell_type": "code",
   "execution_count": 34,
   "metadata": {},
   "outputs": [
    {
     "data": {
      "text/html": [
       "<div>\n",
       "<style scoped>\n",
       "    .dataframe tbody tr th:only-of-type {\n",
       "        vertical-align: middle;\n",
       "    }\n",
       "\n",
       "    .dataframe tbody tr th {\n",
       "        vertical-align: top;\n",
       "    }\n",
       "\n",
       "    .dataframe thead th {\n",
       "        text-align: right;\n",
       "    }\n",
       "</style>\n",
       "<table border=\"1\" class=\"dataframe\">\n",
       "  <thead>\n",
       "    <tr style=\"text-align: right;\">\n",
       "      <th></th>\n",
       "      <th>datetime</th>\n",
       "      <th>favorite_count</th>\n",
       "      <th>follower_count</th>\n",
       "      <th>retweet_count</th>\n",
       "      <th>screen_name</th>\n",
       "      <th>sentiment_by_sentence</th>\n",
       "      <th>text</th>\n",
       "      <th>tweet_id</th>\n",
       "      <th>unix_timestamp</th>\n",
       "      <th>username</th>\n",
       "    </tr>\n",
       "  </thead>\n",
       "  <tbody>\n",
       "    <tr>\n",
       "      <th>0</th>\n",
       "      <td>29-Jun-2019 23:07:14.000000</td>\n",
       "      <td>304</td>\n",
       "      <td>3192272</td>\n",
       "      <td>117</td>\n",
       "      <td>CNBC</td>\n",
       "      <td>[Neutral, Neutral]</td>\n",
       "      <td>A trainee day trader in France made $11.6 mill...</td>\n",
       "      <td>1145106478694588416</td>\n",
       "      <td>1.561875e+09</td>\n",
       "      <td>CNBC</td>\n",
       "    </tr>\n",
       "    <tr>\n",
       "      <th>1</th>\n",
       "      <td>29-Jun-2019 21:55:38.000000</td>\n",
       "      <td>206</td>\n",
       "      <td>3192272</td>\n",
       "      <td>86</td>\n",
       "      <td>CNBC</td>\n",
       "      <td>[Negative]</td>\n",
       "      <td>Krispy Kreme opening huge store in Times Squar...</td>\n",
       "      <td>1145088459083845633</td>\n",
       "      <td>1.561871e+09</td>\n",
       "      <td>CNBC</td>\n",
       "    </tr>\n",
       "    <tr>\n",
       "      <th>2</th>\n",
       "      <td>29-Jun-2019 21:44:47.000000</td>\n",
       "      <td>34</td>\n",
       "      <td>3192272</td>\n",
       "      <td>18</td>\n",
       "      <td>CNBC</td>\n",
       "      <td>[Negative]</td>\n",
       "      <td>Trump says 'there will be no reduction in the ...</td>\n",
       "      <td>1145085729577545728</td>\n",
       "      <td>1.561870e+09</td>\n",
       "      <td>CNBC</td>\n",
       "    </tr>\n",
       "    <tr>\n",
       "      <th>3</th>\n",
       "      <td>29-Jun-2019 19:59:40.000000</td>\n",
       "      <td>23</td>\n",
       "      <td>3192272</td>\n",
       "      <td>13</td>\n",
       "      <td>CNBC</td>\n",
       "      <td>[Negative]</td>\n",
       "      <td>'It's a temporary time out': Trump and Xi agre...</td>\n",
       "      <td>1145059277188546560</td>\n",
       "      <td>1.561864e+09</td>\n",
       "      <td>CNBC</td>\n",
       "    </tr>\n",
       "    <tr>\n",
       "      <th>4</th>\n",
       "      <td>29-Jun-2019 19:04:33.000000</td>\n",
       "      <td>23</td>\n",
       "      <td>3192272</td>\n",
       "      <td>11</td>\n",
       "      <td>CNBC</td>\n",
       "      <td>[Neutral, Neutral]</td>\n",
       "      <td>The Trump economy is starting to look more and...</td>\n",
       "      <td>1145045407648686084</td>\n",
       "      <td>1.561860e+09</td>\n",
       "      <td>CNBC</td>\n",
       "    </tr>\n",
       "  </tbody>\n",
       "</table>\n",
       "</div>"
      ],
      "text/plain": [
       "                      datetime  favorite_count  follower_count  retweet_count  \\\n",
       "0  29-Jun-2019 23:07:14.000000             304         3192272            117   \n",
       "1  29-Jun-2019 21:55:38.000000             206         3192272             86   \n",
       "2  29-Jun-2019 21:44:47.000000              34         3192272             18   \n",
       "3  29-Jun-2019 19:59:40.000000              23         3192272             13   \n",
       "4  29-Jun-2019 19:04:33.000000              23         3192272             11   \n",
       "\n",
       "  screen_name sentiment_by_sentence  \\\n",
       "0        CNBC    [Neutral, Neutral]   \n",
       "1        CNBC            [Negative]   \n",
       "2        CNBC            [Negative]   \n",
       "3        CNBC            [Negative]   \n",
       "4        CNBC    [Neutral, Neutral]   \n",
       "\n",
       "                                                text             tweet_id  \\\n",
       "0  A trainee day trader in France made $11.6 mill...  1145106478694588416   \n",
       "1  Krispy Kreme opening huge store in Times Squar...  1145088459083845633   \n",
       "2  Trump says 'there will be no reduction in the ...  1145085729577545728   \n",
       "3  'It's a temporary time out': Trump and Xi agre...  1145059277188546560   \n",
       "4  The Trump economy is starting to look more and...  1145045407648686084   \n",
       "\n",
       "   unix_timestamp username  \n",
       "0    1.561875e+09     CNBC  \n",
       "1    1.561871e+09     CNBC  \n",
       "2    1.561870e+09     CNBC  \n",
       "3    1.561864e+09     CNBC  \n",
       "4    1.561860e+09     CNBC  "
      ]
     },
     "execution_count": 34,
     "metadata": {},
     "output_type": "execute_result"
    }
   ],
   "source": [
    "df = pd.DataFrame(json_list)\n",
    "# df.to_csv('data/sentiment_finance.csv')"
   ]
  },
  {
   "cell_type": "markdown",
   "metadata": {},
   "source": [
    "## Load the new csv file to dataframe"
   ]
  },
  {
   "cell_type": "code",
   "execution_count": 35,
   "metadata": {},
   "outputs": [],
   "source": [
    "df = pd.read_csv('data/sentiment_finance.csv')"
   ]
  },
  {
   "cell_type": "code",
   "execution_count": 36,
   "metadata": {},
   "outputs": [
    {
     "data": {
      "text/html": [
       "<div>\n",
       "<style scoped>\n",
       "    .dataframe tbody tr th:only-of-type {\n",
       "        vertical-align: middle;\n",
       "    }\n",
       "\n",
       "    .dataframe tbody tr th {\n",
       "        vertical-align: top;\n",
       "    }\n",
       "\n",
       "    .dataframe thead th {\n",
       "        text-align: right;\n",
       "    }\n",
       "</style>\n",
       "<table border=\"1\" class=\"dataframe\">\n",
       "  <thead>\n",
       "    <tr style=\"text-align: right;\">\n",
       "      <th></th>\n",
       "      <th>Unnamed: 0</th>\n",
       "      <th>datetime</th>\n",
       "      <th>favorite_count</th>\n",
       "      <th>follower_count</th>\n",
       "      <th>retweet_count</th>\n",
       "      <th>screen_name</th>\n",
       "      <th>sentiment_by_sentence</th>\n",
       "      <th>text</th>\n",
       "      <th>tweet_id</th>\n",
       "      <th>unix_timestamp</th>\n",
       "      <th>username</th>\n",
       "    </tr>\n",
       "  </thead>\n",
       "  <tbody>\n",
       "    <tr>\n",
       "      <th>0</th>\n",
       "      <td>0</td>\n",
       "      <td>29-Jun-2019 23:07:14.000000</td>\n",
       "      <td>304</td>\n",
       "      <td>3192272</td>\n",
       "      <td>117</td>\n",
       "      <td>CNBC</td>\n",
       "      <td>['Neutral', 'Neutral']</td>\n",
       "      <td>A trainee day trader in France made $11.6 mill...</td>\n",
       "      <td>1145106478694588416</td>\n",
       "      <td>1.561875e+09</td>\n",
       "      <td>CNBC</td>\n",
       "    </tr>\n",
       "    <tr>\n",
       "      <th>1</th>\n",
       "      <td>1</td>\n",
       "      <td>29-Jun-2019 21:55:38.000000</td>\n",
       "      <td>206</td>\n",
       "      <td>3192272</td>\n",
       "      <td>86</td>\n",
       "      <td>CNBC</td>\n",
       "      <td>['Negative']</td>\n",
       "      <td>Krispy Kreme opening huge store in Times Squar...</td>\n",
       "      <td>1145088459083845633</td>\n",
       "      <td>1.561871e+09</td>\n",
       "      <td>CNBC</td>\n",
       "    </tr>\n",
       "    <tr>\n",
       "      <th>2</th>\n",
       "      <td>2</td>\n",
       "      <td>29-Jun-2019 21:44:47.000000</td>\n",
       "      <td>34</td>\n",
       "      <td>3192272</td>\n",
       "      <td>18</td>\n",
       "      <td>CNBC</td>\n",
       "      <td>['Negative']</td>\n",
       "      <td>Trump says 'there will be no reduction in the ...</td>\n",
       "      <td>1145085729577545728</td>\n",
       "      <td>1.561870e+09</td>\n",
       "      <td>CNBC</td>\n",
       "    </tr>\n",
       "    <tr>\n",
       "      <th>3</th>\n",
       "      <td>3</td>\n",
       "      <td>29-Jun-2019 19:59:40.000000</td>\n",
       "      <td>23</td>\n",
       "      <td>3192272</td>\n",
       "      <td>13</td>\n",
       "      <td>CNBC</td>\n",
       "      <td>['Negative']</td>\n",
       "      <td>'It's a temporary time out': Trump and Xi agre...</td>\n",
       "      <td>1145059277188546560</td>\n",
       "      <td>1.561864e+09</td>\n",
       "      <td>CNBC</td>\n",
       "    </tr>\n",
       "    <tr>\n",
       "      <th>4</th>\n",
       "      <td>4</td>\n",
       "      <td>29-Jun-2019 19:04:33.000000</td>\n",
       "      <td>23</td>\n",
       "      <td>3192272</td>\n",
       "      <td>11</td>\n",
       "      <td>CNBC</td>\n",
       "      <td>['Neutral', 'Neutral']</td>\n",
       "      <td>The Trump economy is starting to look more and...</td>\n",
       "      <td>1145045407648686084</td>\n",
       "      <td>1.561860e+09</td>\n",
       "      <td>CNBC</td>\n",
       "    </tr>\n",
       "  </tbody>\n",
       "</table>\n",
       "</div>"
      ],
      "text/plain": [
       "   Unnamed: 0                     datetime  favorite_count  follower_count  \\\n",
       "0           0  29-Jun-2019 23:07:14.000000             304         3192272   \n",
       "1           1  29-Jun-2019 21:55:38.000000             206         3192272   \n",
       "2           2  29-Jun-2019 21:44:47.000000              34         3192272   \n",
       "3           3  29-Jun-2019 19:59:40.000000              23         3192272   \n",
       "4           4  29-Jun-2019 19:04:33.000000              23         3192272   \n",
       "\n",
       "   retweet_count screen_name   sentiment_by_sentence  \\\n",
       "0            117        CNBC  ['Neutral', 'Neutral']   \n",
       "1             86        CNBC            ['Negative']   \n",
       "2             18        CNBC            ['Negative']   \n",
       "3             13        CNBC            ['Negative']   \n",
       "4             11        CNBC  ['Neutral', 'Neutral']   \n",
       "\n",
       "                                                text             tweet_id  \\\n",
       "0  A trainee day trader in France made $11.6 mill...  1145106478694588416   \n",
       "1  Krispy Kreme opening huge store in Times Squar...  1145088459083845633   \n",
       "2  Trump says 'there will be no reduction in the ...  1145085729577545728   \n",
       "3  'It's a temporary time out': Trump and Xi agre...  1145059277188546560   \n",
       "4  The Trump economy is starting to look more and...  1145045407648686084   \n",
       "\n",
       "   unix_timestamp username  \n",
       "0    1.561875e+09     CNBC  \n",
       "1    1.561871e+09     CNBC  \n",
       "2    1.561870e+09     CNBC  \n",
       "3    1.561864e+09     CNBC  \n",
       "4    1.561860e+09     CNBC  "
      ]
     },
     "execution_count": 36,
     "metadata": {},
     "output_type": "execute_result"
    }
   ],
   "source": [
    "df.head()"
   ]
  },
  {
   "cell_type": "code",
   "execution_count": null,
   "metadata": {},
   "outputs": [],
   "source": []
  }
 ],
 "metadata": {
  "kernelspec": {
   "display_name": "Python 3",
   "language": "python",
   "name": "python3"
  },
  "language_info": {
   "codemirror_mode": {
    "name": "ipython",
    "version": 3
   },
   "file_extension": ".py",
   "mimetype": "text/x-python",
   "name": "python",
   "nbconvert_exporter": "python",
   "pygments_lexer": "ipython3",
   "version": "3.7.1"
  }
 },
 "nbformat": 4,
 "nbformat_minor": 2
}
